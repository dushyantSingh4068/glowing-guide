{
 "cells": [
  {
   "cell_type": "code",
   "execution_count": 67,
   "metadata": {},
   "outputs": [],
   "source": [
    "import pandas as pd\n",
    "import numpy as np\n",
    "\n",
    "np.random.seed(1212)\n",
    "import tensorflow as tf\n",
    "from tensorflow.keras.models import Model\n",
    "from tensorflow.keras.layers import *\n",
    "from tensorflow.keras import optimizers"
   ]
  },
  {
   "cell_type": "code",
   "execution_count": 68,
   "metadata": {},
   "outputs": [],
   "source": [
    "df_train = pd.read_csv(r'\\Users\\dushyantSingh\\Downloads\\train.csv')"
   ]
  },
  {
   "cell_type": "code",
   "execution_count": 69,
   "metadata": {},
   "outputs": [],
   "source": [
    "df_test = pd.read_csv(r'\\Users\\dushyantSingh\\Downloads\\test.csv')"
   ]
  },
  {
   "cell_type": "code",
   "execution_count": 70,
   "metadata": {},
   "outputs": [
    {
     "data": {
      "text/html": [
       "<div>\n",
       "<style scoped>\n",
       "    .dataframe tbody tr th:only-of-type {\n",
       "        vertical-align: middle;\n",
       "    }\n",
       "\n",
       "    .dataframe tbody tr th {\n",
       "        vertical-align: top;\n",
       "    }\n",
       "\n",
       "    .dataframe thead th {\n",
       "        text-align: right;\n",
       "    }\n",
       "</style>\n",
       "<table border=\"1\" class=\"dataframe\">\n",
       "  <thead>\n",
       "    <tr style=\"text-align: right;\">\n",
       "      <th></th>\n",
       "      <th>label</th>\n",
       "      <th>pixel0</th>\n",
       "      <th>pixel1</th>\n",
       "      <th>pixel2</th>\n",
       "      <th>pixel3</th>\n",
       "      <th>pixel4</th>\n",
       "      <th>pixel5</th>\n",
       "      <th>pixel6</th>\n",
       "      <th>pixel7</th>\n",
       "      <th>pixel8</th>\n",
       "      <th>...</th>\n",
       "      <th>pixel774</th>\n",
       "      <th>pixel775</th>\n",
       "      <th>pixel776</th>\n",
       "      <th>pixel777</th>\n",
       "      <th>pixel778</th>\n",
       "      <th>pixel779</th>\n",
       "      <th>pixel780</th>\n",
       "      <th>pixel781</th>\n",
       "      <th>pixel782</th>\n",
       "      <th>pixel783</th>\n",
       "    </tr>\n",
       "  </thead>\n",
       "  <tbody>\n",
       "    <tr>\n",
       "      <th>0</th>\n",
       "      <td>1</td>\n",
       "      <td>0</td>\n",
       "      <td>0</td>\n",
       "      <td>0</td>\n",
       "      <td>0</td>\n",
       "      <td>0</td>\n",
       "      <td>0</td>\n",
       "      <td>0</td>\n",
       "      <td>0</td>\n",
       "      <td>0</td>\n",
       "      <td>...</td>\n",
       "      <td>0</td>\n",
       "      <td>0</td>\n",
       "      <td>0</td>\n",
       "      <td>0</td>\n",
       "      <td>0</td>\n",
       "      <td>0</td>\n",
       "      <td>0</td>\n",
       "      <td>0</td>\n",
       "      <td>0</td>\n",
       "      <td>0</td>\n",
       "    </tr>\n",
       "    <tr>\n",
       "      <th>1</th>\n",
       "      <td>0</td>\n",
       "      <td>0</td>\n",
       "      <td>0</td>\n",
       "      <td>0</td>\n",
       "      <td>0</td>\n",
       "      <td>0</td>\n",
       "      <td>0</td>\n",
       "      <td>0</td>\n",
       "      <td>0</td>\n",
       "      <td>0</td>\n",
       "      <td>...</td>\n",
       "      <td>0</td>\n",
       "      <td>0</td>\n",
       "      <td>0</td>\n",
       "      <td>0</td>\n",
       "      <td>0</td>\n",
       "      <td>0</td>\n",
       "      <td>0</td>\n",
       "      <td>0</td>\n",
       "      <td>0</td>\n",
       "      <td>0</td>\n",
       "    </tr>\n",
       "    <tr>\n",
       "      <th>2</th>\n",
       "      <td>1</td>\n",
       "      <td>0</td>\n",
       "      <td>0</td>\n",
       "      <td>0</td>\n",
       "      <td>0</td>\n",
       "      <td>0</td>\n",
       "      <td>0</td>\n",
       "      <td>0</td>\n",
       "      <td>0</td>\n",
       "      <td>0</td>\n",
       "      <td>...</td>\n",
       "      <td>0</td>\n",
       "      <td>0</td>\n",
       "      <td>0</td>\n",
       "      <td>0</td>\n",
       "      <td>0</td>\n",
       "      <td>0</td>\n",
       "      <td>0</td>\n",
       "      <td>0</td>\n",
       "      <td>0</td>\n",
       "      <td>0</td>\n",
       "    </tr>\n",
       "    <tr>\n",
       "      <th>3</th>\n",
       "      <td>4</td>\n",
       "      <td>0</td>\n",
       "      <td>0</td>\n",
       "      <td>0</td>\n",
       "      <td>0</td>\n",
       "      <td>0</td>\n",
       "      <td>0</td>\n",
       "      <td>0</td>\n",
       "      <td>0</td>\n",
       "      <td>0</td>\n",
       "      <td>...</td>\n",
       "      <td>0</td>\n",
       "      <td>0</td>\n",
       "      <td>0</td>\n",
       "      <td>0</td>\n",
       "      <td>0</td>\n",
       "      <td>0</td>\n",
       "      <td>0</td>\n",
       "      <td>0</td>\n",
       "      <td>0</td>\n",
       "      <td>0</td>\n",
       "    </tr>\n",
       "    <tr>\n",
       "      <th>4</th>\n",
       "      <td>0</td>\n",
       "      <td>0</td>\n",
       "      <td>0</td>\n",
       "      <td>0</td>\n",
       "      <td>0</td>\n",
       "      <td>0</td>\n",
       "      <td>0</td>\n",
       "      <td>0</td>\n",
       "      <td>0</td>\n",
       "      <td>0</td>\n",
       "      <td>...</td>\n",
       "      <td>0</td>\n",
       "      <td>0</td>\n",
       "      <td>0</td>\n",
       "      <td>0</td>\n",
       "      <td>0</td>\n",
       "      <td>0</td>\n",
       "      <td>0</td>\n",
       "      <td>0</td>\n",
       "      <td>0</td>\n",
       "      <td>0</td>\n",
       "    </tr>\n",
       "  </tbody>\n",
       "</table>\n",
       "<p>5 rows × 785 columns</p>\n",
       "</div>"
      ],
      "text/plain": [
       "   label  pixel0  pixel1  pixel2  pixel3  pixel4  pixel5  pixel6  pixel7  \\\n",
       "0      1       0       0       0       0       0       0       0       0   \n",
       "1      0       0       0       0       0       0       0       0       0   \n",
       "2      1       0       0       0       0       0       0       0       0   \n",
       "3      4       0       0       0       0       0       0       0       0   \n",
       "4      0       0       0       0       0       0       0       0       0   \n",
       "\n",
       "   pixel8  ...  pixel774  pixel775  pixel776  pixel777  pixel778  pixel779  \\\n",
       "0       0  ...         0         0         0         0         0         0   \n",
       "1       0  ...         0         0         0         0         0         0   \n",
       "2       0  ...         0         0         0         0         0         0   \n",
       "3       0  ...         0         0         0         0         0         0   \n",
       "4       0  ...         0         0         0         0         0         0   \n",
       "\n",
       "   pixel780  pixel781  pixel782  pixel783  \n",
       "0         0         0         0         0  \n",
       "1         0         0         0         0  \n",
       "2         0         0         0         0  \n",
       "3         0         0         0         0  \n",
       "4         0         0         0         0  \n",
       "\n",
       "[5 rows x 785 columns]"
      ]
     },
     "execution_count": 70,
     "metadata": {},
     "output_type": "execute_result"
    }
   ],
   "source": [
    "df_train.head()"
   ]
  },
  {
   "cell_type": "code",
   "execution_count": 71,
   "metadata": {},
   "outputs": [
    {
     "name": "stdout",
     "output_type": "stream",
     "text": [
      "(28000, 784)\n"
     ]
    }
   ],
   "source": [
    "df_features = df_train.iloc[:, 1:785] # for all rows, every column except first\n",
    "df_labels = df_train.iloc[:, 0]  # for all rows,the first (label) column\n",
    "\n",
    "X_test = df_test.iloc[:, 0:784]\n",
    "print(X_test.shape)"
   ]
  },
  {
   "cell_type": "code",
   "execution_count": 72,
   "metadata": {},
   "outputs": [],
   "source": [
    "from sklearn.model_selection import train_test_split\n",
    "X_train, X_cv, y_train, y_cv = train_test_split(df_features, df_labels, test_size=0.2, random_state=1212)\n",
    "\n"
   ]
  },
  {
   "cell_type": "code",
   "execution_count": 73,
   "metadata": {},
   "outputs": [],
   "source": [
    "X_train = X_train.to_numpy().reshape(33600, 784)"
   ]
  },
  {
   "cell_type": "code",
   "execution_count": 74,
   "metadata": {},
   "outputs": [],
   "source": [
    "X_cv = X_cv.to_numpy().reshape(8400, 784)\n",
    "X_test = X_test.to_numpy().reshape(28000, 784)"
   ]
  },
  {
   "cell_type": "code",
   "execution_count": 75,
   "metadata": {},
   "outputs": [],
   "source": [
    "# Feature normalization\n",
    "X_train = X_train.astype('float32')\n",
    "X_cv = X_cv.astype('float32')\n",
    "X_test = X_test.astype('float32')"
   ]
  },
  {
   "cell_type": "code",
   "execution_count": 76,
   "metadata": {},
   "outputs": [],
   "source": [
    "X_train /= 255\n",
    "X_cv /= 255\n",
    "X_test /= 255"
   ]
  },
  {
   "cell_type": "code",
   "execution_count": 78,
   "metadata": {},
   "outputs": [],
   "source": [
    "# Convert labels to one hot encoded\n",
    "num_digits = 10\n",
    "from tensorflow.keras import utils\n",
    "y_train = utils.to_categorical(y_train, num_digits)\n",
    "y_cv = utils.to_categorical(y_cv, num_digits)"
   ]
  },
  {
   "cell_type": "code",
   "execution_count": 79,
   "metadata": {},
   "outputs": [
    {
     "name": "stdout",
     "output_type": "stream",
     "text": [
      "[0. 0. 1. 0. 0. 0. 0. 0. 0. 0.]\n"
     ]
    }
   ],
   "source": [
    "print(y_train[0])"
   ]
  },
  {
   "cell_type": "code",
   "execution_count": 80,
   "metadata": {},
   "outputs": [
    {
     "name": "stdout",
     "output_type": "stream",
     "text": [
      "[0. 0. 0. 0. 0. 0. 0. 1. 0. 0.]\n"
     ]
    }
   ],
   "source": [
    "print(y_train[3])"
   ]
  },
  {
   "cell_type": "code",
   "execution_count": 81,
   "metadata": {},
   "outputs": [],
   "source": [
    "# Input parameters\n",
    "n_input = 784\n",
    "n_hidden_1 = 300\n",
    "n_hidden_2 = 100\n",
    "n_hidden_3 = 100\n",
    "n_hidden_4 = 200\n",
    "\n",
    "num_digits = 10"
   ]
  },
  {
   "cell_type": "code",
   "execution_count": 83,
   "metadata": {},
   "outputs": [],
   "source": [
    "Inp = Input(shape=(784, ))\n",
    "x = Dense(n_hidden_1, activation='relu', name = \"Hidden_Layer_1\")(Inp)\n",
    "x = Dense(n_hidden_2, activation='relu', name = \"Hidden_Layer_2\")(x)\n",
    "x = Dense(n_hidden_3, activation='relu', name = \"Hidden_Layer_3\")(x)\n",
    "x = Dense(n_hidden_4, activation='relu', name = \"Hidden_Layer_4\")(x)\n",
    "output = Dense(num_digits, activation='softmax', name = \"Output_Layer\")(x)"
   ]
  },
  {
   "cell_type": "code",
   "execution_count": 84,
   "metadata": {},
   "outputs": [
    {
     "name": "stdout",
     "output_type": "stream",
     "text": [
      "Model: \"functional_1\"\n",
      "_________________________________________________________________\n",
      "Layer (type)                 Output Shape              Param #   \n",
      "=================================================================\n",
      "input_2 (InputLayer)         [(None, 784)]             0         \n",
      "_________________________________________________________________\n",
      "Hidden_Layer_1 (Dense)       (None, 300)               235500    \n",
      "_________________________________________________________________\n",
      "Hidden_Layer_2 (Dense)       (None, 100)               30100     \n",
      "_________________________________________________________________\n",
      "Hidden_Layer_3 (Dense)       (None, 100)               10100     \n",
      "_________________________________________________________________\n",
      "Hidden_Layer_4 (Dense)       (None, 200)               20200     \n",
      "_________________________________________________________________\n",
      "Output_Layer (Dense)         (None, 10)                2010      \n",
      "=================================================================\n",
      "Total params: 297,910\n",
      "Trainable params: 297,910\n",
      "Non-trainable params: 0\n",
      "_________________________________________________________________\n"
     ]
    }
   ],
   "source": [
    "# model has 6 layers\n",
    "model = Model(Inp, output)\n",
    "model.summary()   # we have 297,910 parameters to estimate"
   ]
  },
  {
   "cell_type": "code",
   "execution_count": 85,
   "metadata": {},
   "outputs": [],
   "source": [
    "learning_rate = 0.1\n",
    "training_epochs = 20\n",
    "batch_size = 100\n",
    "sgd = optimizers.SGD(lr = learning_rate)"
   ]
  },
  {
   "cell_type": "code",
   "execution_count": 87,
   "metadata": {},
   "outputs": [],
   "source": [
    "model.compile(loss = 'categorical_crossentropy', optimizer = 'sgd', metrics = ['accuracy'])"
   ]
  },
  {
   "cell_type": "code",
   "execution_count": 88,
   "metadata": {},
   "outputs": [
    {
     "name": "stdout",
     "output_type": "stream",
     "text": [
      "Epoch 1/20\n",
      "336/336 - 2s - loss: 1.8017 - accuracy: 0.5454 - val_loss: 0.8972 - val_accuracy: 0.8075\n",
      "Epoch 2/20\n",
      "336/336 - 2s - loss: 0.5941 - accuracy: 0.8449 - val_loss: 0.4351 - val_accuracy: 0.8820\n",
      "Epoch 3/20\n",
      "336/336 - 2s - loss: 0.3925 - accuracy: 0.8896 - val_loss: 0.3558 - val_accuracy: 0.8993\n",
      "Epoch 4/20\n",
      "336/336 - 2s - loss: 0.3285 - accuracy: 0.9042 - val_loss: 0.3110 - val_accuracy: 0.9099\n",
      "Epoch 5/20\n",
      "336/336 - 2s - loss: 0.2931 - accuracy: 0.9135 - val_loss: 0.2852 - val_accuracy: 0.9169\n",
      "Epoch 6/20\n",
      "336/336 - 1s - loss: 0.2657 - accuracy: 0.9212 - val_loss: 0.2760 - val_accuracy: 0.9187\n",
      "Epoch 7/20\n",
      "336/336 - 2s - loss: 0.2452 - accuracy: 0.9275 - val_loss: 0.2539 - val_accuracy: 0.9249\n",
      "Epoch 8/20\n",
      "336/336 - 2s - loss: 0.2282 - accuracy: 0.9332 - val_loss: 0.2431 - val_accuracy: 0.9294\n",
      "Epoch 9/20\n",
      "336/336 - 2s - loss: 0.2120 - accuracy: 0.9379 - val_loss: 0.2235 - val_accuracy: 0.9345\n",
      "Epoch 10/20\n",
      "336/336 - 2s - loss: 0.1979 - accuracy: 0.9419 - val_loss: 0.2134 - val_accuracy: 0.9374\n",
      "Epoch 11/20\n",
      "336/336 - 2s - loss: 0.1859 - accuracy: 0.9456 - val_loss: 0.2052 - val_accuracy: 0.9394\n",
      "Epoch 12/20\n",
      "336/336 - 2s - loss: 0.1742 - accuracy: 0.9492 - val_loss: 0.1956 - val_accuracy: 0.9415\n",
      "Epoch 13/20\n",
      "336/336 - 2s - loss: 0.1643 - accuracy: 0.9517 - val_loss: 0.1852 - val_accuracy: 0.9446\n",
      "Epoch 14/20\n",
      "336/336 - 2s - loss: 0.1558 - accuracy: 0.9544 - val_loss: 0.1767 - val_accuracy: 0.9489\n",
      "Epoch 15/20\n",
      "336/336 - 1s - loss: 0.1466 - accuracy: 0.9576 - val_loss: 0.1710 - val_accuracy: 0.9502\n",
      "Epoch 16/20\n",
      "336/336 - 2s - loss: 0.1399 - accuracy: 0.9590 - val_loss: 0.1632 - val_accuracy: 0.9545\n",
      "Epoch 17/20\n",
      "336/336 - 2s - loss: 0.1326 - accuracy: 0.9613 - val_loss: 0.1609 - val_accuracy: 0.9527\n",
      "Epoch 18/20\n",
      "336/336 - 2s - loss: 0.1250 - accuracy: 0.9641 - val_loss: 0.1554 - val_accuracy: 0.9543\n",
      "Epoch 19/20\n",
      "336/336 - 2s - loss: 0.1197 - accuracy: 0.9657 - val_loss: 0.1506 - val_accuracy: 0.9563\n",
      "Epoch 20/20\n",
      "336/336 - 2s - loss: 0.1136 - accuracy: 0.9675 - val_loss: 0.1492 - val_accuracy: 0.9565\n"
     ]
    }
   ],
   "source": [
    "history1 = model.fit(X_train, y_train, batch_size = batch_size, epochs = training_epochs,\n",
    "                     verbose = 2, validation_data = (X_cv, y_cv))"
   ]
  },
  {
   "cell_type": "code",
   "execution_count": 94,
   "metadata": {},
   "outputs": [],
   "source": [
    "Inp = Input(shape=(784,))\n",
    "x = Dense(n_hidden_1, activation='relu', name = \"Hidden_Layer_1\")(Inp)\n",
    "x = Dense(n_hidden_2, activation='relu', name = \"Hidden_Layer_2\")(x)\n",
    "x = Dense(n_hidden_3, activation='relu', name = \"Hidden_Layer_3\")(x)\n",
    "x = Dense(n_hidden_4, activation='relu', name = \"Hidden_Layer_4\")(x)\n",
    "output = Dense(num_digits, activation='softmax', name = \"Output_Layer\")(x)\n",
    "\n",
    "adam = optimizers.Adam(lr=learning_rate)\n",
    "model2 = Model(Inp, output)\n",
    "model2.compile(loss = \"categorical_crossentropy\", optimizer = 'adam', metrics=['accuracy'])"
   ]
  },
  {
   "cell_type": "code",
   "execution_count": 95,
   "metadata": {},
   "outputs": [
    {
     "name": "stdout",
     "output_type": "stream",
     "text": [
      "Epoch 1/20\n",
      "336/336 - 2s - loss: 0.3354 - accuracy: 0.9001 - val_loss: 0.1570 - val_accuracy: 0.9525\n",
      "Epoch 2/20\n",
      "336/336 - 2s - loss: 0.1213 - accuracy: 0.9636 - val_loss: 0.1164 - val_accuracy: 0.9636\n",
      "Epoch 3/20\n",
      "336/336 - 2s - loss: 0.0799 - accuracy: 0.9749 - val_loss: 0.1045 - val_accuracy: 0.9712\n",
      "Epoch 4/20\n",
      "336/336 - 2s - loss: 0.0559 - accuracy: 0.9826 - val_loss: 0.0941 - val_accuracy: 0.9739\n",
      "Epoch 5/20\n",
      "336/336 - 2s - loss: 0.0438 - accuracy: 0.9861 - val_loss: 0.1086 - val_accuracy: 0.9662\n",
      "Epoch 6/20\n",
      "336/336 - 2s - loss: 0.0327 - accuracy: 0.9896 - val_loss: 0.0999 - val_accuracy: 0.9737\n",
      "Epoch 7/20\n",
      "336/336 - 2s - loss: 0.0284 - accuracy: 0.9908 - val_loss: 0.1064 - val_accuracy: 0.9736\n",
      "Epoch 8/20\n",
      "336/336 - 2s - loss: 0.0316 - accuracy: 0.9896 - val_loss: 0.1117 - val_accuracy: 0.9707\n",
      "Epoch 9/20\n",
      "336/336 - 2s - loss: 0.0203 - accuracy: 0.9933 - val_loss: 0.1176 - val_accuracy: 0.9710\n",
      "Epoch 10/20\n",
      "336/336 - 2s - loss: 0.0205 - accuracy: 0.9932 - val_loss: 0.1229 - val_accuracy: 0.9729\n",
      "Epoch 11/20\n",
      "336/336 - 2s - loss: 0.0207 - accuracy: 0.9932 - val_loss: 0.1111 - val_accuracy: 0.9750\n",
      "Epoch 12/20\n",
      "336/336 - 1s - loss: 0.0163 - accuracy: 0.9943 - val_loss: 0.1133 - val_accuracy: 0.9751\n",
      "Epoch 13/20\n",
      "336/336 - 2s - loss: 0.0194 - accuracy: 0.9939 - val_loss: 0.0960 - val_accuracy: 0.9783\n",
      "Epoch 14/20\n",
      "336/336 - 2s - loss: 0.0117 - accuracy: 0.9964 - val_loss: 0.1488 - val_accuracy: 0.9692\n",
      "Epoch 15/20\n",
      "336/336 - 2s - loss: 0.0177 - accuracy: 0.9942 - val_loss: 0.1142 - val_accuracy: 0.9764\n",
      "Epoch 16/20\n",
      "336/336 - 2s - loss: 0.0108 - accuracy: 0.9966 - val_loss: 0.1312 - val_accuracy: 0.9760\n",
      "Epoch 17/20\n",
      "336/336 - 2s - loss: 0.0149 - accuracy: 0.9960 - val_loss: 0.1083 - val_accuracy: 0.9773\n",
      "Epoch 18/20\n",
      "336/336 - 2s - loss: 0.0112 - accuracy: 0.9963 - val_loss: 0.1234 - val_accuracy: 0.9762\n",
      "Epoch 19/20\n",
      "336/336 - 2s - loss: 0.0138 - accuracy: 0.9957 - val_loss: 0.1258 - val_accuracy: 0.9754\n",
      "Epoch 20/20\n",
      "336/336 - 2s - loss: 0.0118 - accuracy: 0.9963 - val_loss: 0.1147 - val_accuracy: 0.9771\n"
     ]
    }
   ],
   "source": [
    "history2 = model2.fit(X_train, y_train, batch_size = batch_size, epochs = training_epochs,\n",
    "                     verbose = 2, validation_data = (X_cv, y_cv))"
   ]
  },
  {
   "cell_type": "code",
   "execution_count": 98,
   "metadata": {},
   "outputs": [],
   "source": [
    "Inp = Input(shape=(784,))\n",
    "x = Dense(n_hidden_1, activation='relu', name = \"Hidden_Layer_1\")(Inp)\n",
    "x = Dense(n_hidden_2, activation='relu', name = \"Hidden_Layer_2\")(x)\n",
    "x = Dense(n_hidden_3, activation='relu', name = \"Hidden_Layer_3\")(x)\n",
    "x = Dense(n_hidden_4, activation='relu', name = \"Hidden_Layer_4\")(x)\n",
    "output = Dense(num_digits, activation='softmax', name = \"Output_Layer\")(x)\n",
    "\n",
    "learning_rate = 0.01\n",
    "adam = optimizers.Adam(lr=learning_rate)\n",
    "model2a = Model(Inp, output)\n",
    "model2a.compile(loss='categorical_crossentropy', optimizer='adam', metrics=['accuracy'])"
   ]
  },
  {
   "cell_type": "code",
   "execution_count": 99,
   "metadata": {},
   "outputs": [
    {
     "name": "stdout",
     "output_type": "stream",
     "text": [
      "Epoch 1/20\n",
      "336/336 - 2s - loss: 0.3401 - accuracy: 0.8953 - val_loss: 0.1670 - val_accuracy: 0.9474\n",
      "Epoch 2/20\n",
      "336/336 - 2s - loss: 0.1245 - accuracy: 0.9612 - val_loss: 0.1224 - val_accuracy: 0.9601\n",
      "Epoch 3/20\n",
      "336/336 - 2s - loss: 0.0818 - accuracy: 0.9742 - val_loss: 0.1174 - val_accuracy: 0.9645\n",
      "Epoch 4/20\n",
      "336/336 - 2s - loss: 0.0599 - accuracy: 0.9810 - val_loss: 0.0933 - val_accuracy: 0.9718\n",
      "Epoch 5/20\n",
      "336/336 - 2s - loss: 0.0430 - accuracy: 0.9867 - val_loss: 0.1086 - val_accuracy: 0.9707\n",
      "Epoch 6/20\n",
      "336/336 - 2s - loss: 0.0375 - accuracy: 0.9872 - val_loss: 0.0969 - val_accuracy: 0.9736\n",
      "Epoch 7/20\n",
      "336/336 - 2s - loss: 0.0287 - accuracy: 0.9901 - val_loss: 0.1162 - val_accuracy: 0.9713\n",
      "Epoch 8/20\n",
      "336/336 - 2s - loss: 0.0257 - accuracy: 0.9912 - val_loss: 0.0993 - val_accuracy: 0.9746\n",
      "Epoch 9/20\n",
      "336/336 - 2s - loss: 0.0208 - accuracy: 0.9931 - val_loss: 0.1319 - val_accuracy: 0.9671\n",
      "Epoch 10/20\n",
      "336/336 - 2s - loss: 0.0208 - accuracy: 0.9929 - val_loss: 0.1114 - val_accuracy: 0.9737\n",
      "Epoch 11/20\n",
      "336/336 - 2s - loss: 0.0178 - accuracy: 0.9942 - val_loss: 0.1117 - val_accuracy: 0.9745\n",
      "Epoch 12/20\n",
      "336/336 - 2s - loss: 0.0185 - accuracy: 0.9944 - val_loss: 0.1413 - val_accuracy: 0.9687\n",
      "Epoch 13/20\n",
      "336/336 - 2s - loss: 0.0187 - accuracy: 0.9939 - val_loss: 0.1200 - val_accuracy: 0.9739\n",
      "Epoch 14/20\n",
      "336/336 - 2s - loss: 0.0188 - accuracy: 0.9937 - val_loss: 0.1311 - val_accuracy: 0.9718\n",
      "Epoch 15/20\n",
      "336/336 - 2s - loss: 0.0133 - accuracy: 0.9957 - val_loss: 0.1167 - val_accuracy: 0.9721\n",
      "Epoch 16/20\n",
      "336/336 - 2s - loss: 0.0100 - accuracy: 0.9971 - val_loss: 0.1255 - val_accuracy: 0.9769\n",
      "Epoch 17/20\n",
      "336/336 - 2s - loss: 0.0153 - accuracy: 0.9949 - val_loss: 0.1057 - val_accuracy: 0.9775\n",
      "Epoch 18/20\n",
      "336/336 - 2s - loss: 0.0117 - accuracy: 0.9962 - val_loss: 0.1121 - val_accuracy: 0.9782\n",
      "Epoch 19/20\n",
      "336/336 - 2s - loss: 0.0084 - accuracy: 0.9976 - val_loss: 0.1404 - val_accuracy: 0.9739\n",
      "Epoch 20/20\n",
      "336/336 - 2s - loss: 0.0136 - accuracy: 0.9961 - val_loss: 0.1245 - val_accuracy: 0.9757\n"
     ]
    },
    {
     "data": {
      "text/plain": [
       "<tensorflow.python.keras.callbacks.History at 0x22e045e44c0>"
      ]
     },
     "execution_count": 99,
     "metadata": {},
     "output_type": "execute_result"
    }
   ],
   "source": [
    "model2a.fit(X_train, y_train, batch_size = batch_size, epochs = training_epochs,\n",
    "              verbose=2, validation_data=(X_cv, y_cv))\n",
    "\n",
    "# Train on 33600 samples, validate on 8400 samples"
   ]
  },
  {
   "cell_type": "code",
   "execution_count": 100,
   "metadata": {},
   "outputs": [],
   "source": [
    "Inp = Input(shape=(784,))\n",
    "x = Dense(n_hidden_1, activation='relu', name = \"Hidden_Layer_1\")(Inp)\n",
    "x = Dense(n_hidden_2, activation='relu', name = \"Hidden_Layer_2\")(x)\n",
    "x = Dense(n_hidden_3, activation='relu', name = \"Hidden_Layer_3\")(x)\n",
    "x = Dense(n_hidden_4, activation='relu', name = \"Hidden_Layer_4\")(x)\n",
    "output = Dense(num_digits, activation='softmax', name = \"Output_Layer\")(x)\n",
    "\n",
    "learning_rate = 0.5\n",
    "adam = optimizers.Adam(lr=learning_rate)\n",
    "model2b = Model(Inp, output)\n",
    "\n",
    "model2b.compile(loss='categorical_crossentropy', optimizer='adam', metrics=['accuracy'])"
   ]
  },
  {
   "cell_type": "code",
   "execution_count": 101,
   "metadata": {},
   "outputs": [
    {
     "name": "stdout",
     "output_type": "stream",
     "text": [
      "Epoch 1/20\n",
      "336/336 - 1s - loss: 0.3512 - accuracy: 0.8931 - val_loss: 0.1941 - val_accuracy: 0.9380\n",
      "Epoch 2/20\n",
      "336/336 - 1s - loss: 0.1282 - accuracy: 0.9612 - val_loss: 0.1403 - val_accuracy: 0.9568\n",
      "Epoch 3/20\n",
      "336/336 - 1s - loss: 0.0831 - accuracy: 0.9735 - val_loss: 0.1048 - val_accuracy: 0.9685\n",
      "Epoch 4/20\n",
      "336/336 - 1s - loss: 0.0599 - accuracy: 0.9801 - val_loss: 0.0912 - val_accuracy: 0.9738\n",
      "Epoch 5/20\n",
      "336/336 - 1s - loss: 0.0430 - accuracy: 0.9866 - val_loss: 0.0992 - val_accuracy: 0.9718\n",
      "Epoch 6/20\n",
      "336/336 - 1s - loss: 0.0368 - accuracy: 0.9876 - val_loss: 0.1106 - val_accuracy: 0.9698\n",
      "Epoch 7/20\n",
      "336/336 - 1s - loss: 0.0281 - accuracy: 0.9910 - val_loss: 0.0998 - val_accuracy: 0.9744\n",
      "Epoch 8/20\n",
      "336/336 - 1s - loss: 0.0257 - accuracy: 0.9915 - val_loss: 0.0961 - val_accuracy: 0.9756\n",
      "Epoch 9/20\n",
      "336/336 - 1s - loss: 0.0237 - accuracy: 0.9919 - val_loss: 0.1270 - val_accuracy: 0.9690\n",
      "Epoch 10/20\n",
      "336/336 - 1s - loss: 0.0202 - accuracy: 0.9938 - val_loss: 0.1152 - val_accuracy: 0.9742\n",
      "Epoch 11/20\n",
      "336/336 - 1s - loss: 0.0198 - accuracy: 0.9936 - val_loss: 0.1097 - val_accuracy: 0.9743\n",
      "Epoch 12/20\n",
      "336/336 - 1s - loss: 0.0144 - accuracy: 0.9959 - val_loss: 0.1214 - val_accuracy: 0.9738\n",
      "Epoch 13/20\n",
      "336/336 - 1s - loss: 0.0162 - accuracy: 0.9946 - val_loss: 0.1468 - val_accuracy: 0.9689\n",
      "Epoch 14/20\n",
      "336/336 - 1s - loss: 0.0160 - accuracy: 0.9950 - val_loss: 0.1238 - val_accuracy: 0.9730\n",
      "Epoch 15/20\n",
      "336/336 - 1s - loss: 0.0128 - accuracy: 0.9961 - val_loss: 0.1317 - val_accuracy: 0.9719\n",
      "Epoch 16/20\n",
      "336/336 - 1s - loss: 0.0177 - accuracy: 0.9940 - val_loss: 0.1167 - val_accuracy: 0.9756\n",
      "Epoch 17/20\n",
      "336/336 - 1s - loss: 0.0121 - accuracy: 0.9961 - val_loss: 0.1212 - val_accuracy: 0.9775\n",
      "Epoch 18/20\n",
      "336/336 - 1s - loss: 0.0190 - accuracy: 0.9947 - val_loss: 0.1160 - val_accuracy: 0.9743\n",
      "Epoch 19/20\n",
      "336/336 - 1s - loss: 0.0083 - accuracy: 0.9977 - val_loss: 0.1295 - val_accuracy: 0.9742\n",
      "Epoch 20/20\n",
      "336/336 - 1s - loss: 0.0113 - accuracy: 0.9966 - val_loss: 0.1213 - val_accuracy: 0.9757\n"
     ]
    },
    {
     "data": {
      "text/plain": [
       "<tensorflow.python.keras.callbacks.History at 0x22e01c7a670>"
      ]
     },
     "execution_count": 101,
     "metadata": {},
     "output_type": "execute_result"
    }
   ],
   "source": [
    "model2b.fit(X_train, y_train, batch_size = batch_size, epochs = training_epochs,\n",
    "             verbose=2, validation_data=(X_cv, y_cv))"
   ]
  },
  {
   "cell_type": "code",
   "execution_count": 102,
   "metadata": {},
   "outputs": [],
   "source": [
    "n_input = 784\n",
    "n_hidden_1 = 300\n",
    "n_hidden_2 = 100\n",
    "n_hidden_3 = 100\n",
    "n_hidden_4 = 100\n",
    "n_hidden_5 = 200\n",
    "num_digits = 10"
   ]
  },
  {
   "cell_type": "code",
   "execution_count": 103,
   "metadata": {},
   "outputs": [
    {
     "name": "stdout",
     "output_type": "stream",
     "text": [
      "Model: \"functional_13\"\n",
      "_________________________________________________________________\n",
      "Layer (type)                 Output Shape              Param #   \n",
      "=================================================================\n",
      "input_10 (InputLayer)        [(None, 784)]             0         \n",
      "_________________________________________________________________\n",
      "Hidden_Layer_1 (Dense)       (None, 300)               235500    \n",
      "_________________________________________________________________\n",
      "Hidden_Layer_2 (Dense)       (None, 100)               30100     \n",
      "_________________________________________________________________\n",
      "Hidden_Layer_3 (Dense)       (None, 100)               10100     \n",
      "_________________________________________________________________\n",
      "Hidden_Layer_4 (Dense)       (None, 100)               10100     \n",
      "_________________________________________________________________\n",
      "Hidden_Layer_5 (Dense)       (None, 200)               20200     \n",
      "_________________________________________________________________\n",
      "Output_Layer (Dense)         (None, 10)                2010      \n",
      "=================================================================\n",
      "Total params: 308,010\n",
      "Trainable params: 308,010\n",
      "Non-trainable params: 0\n",
      "_________________________________________________________________\n"
     ]
    }
   ],
   "source": [
    "Inp = Input(shape=(784, ))\n",
    "x = Dense(n_hidden_1, activation='relu', name = \"Hidden_Layer_1\")(Inp)\n",
    "x = Dense(n_hidden_2, activation='relu', name = \"Hidden_Layer_2\")(x)\n",
    "x = Dense(n_hidden_3, activation='relu', name = \"Hidden_Layer_3\")(x)\n",
    "x = Dense(n_hidden_4, activation='relu', name = \"Hidden_Layer_4\")(x)\n",
    "x = Dense(n_hidden_5, activation='relu', name = \"Hidden_Layer_5\")(x)\n",
    "output = Dense(num_digits, activation='softmax', name = \"Output_Layer\")(x)\n",
    "\n",
    "model3 = Model(Inp, output)\n",
    "model3.summary()"
   ]
  },
  {
   "cell_type": "code",
   "execution_count": 104,
   "metadata": {},
   "outputs": [
    {
     "name": "stdout",
     "output_type": "stream",
     "text": [
      "Epoch 1/20\n",
      "336/336 - 1s - loss: 0.3420 - accuracy: 0.8965 - val_loss: 0.1570 - val_accuracy: 0.9536\n",
      "Epoch 2/20\n",
      "336/336 - 1s - loss: 0.1287 - accuracy: 0.9602 - val_loss: 0.1094 - val_accuracy: 0.9671\n",
      "Epoch 3/20\n",
      "336/336 - 1s - loss: 0.0887 - accuracy: 0.9725 - val_loss: 0.1020 - val_accuracy: 0.9685\n",
      "Epoch 4/20\n",
      "336/336 - 1s - loss: 0.0621 - accuracy: 0.9808 - val_loss: 0.1034 - val_accuracy: 0.9693\n",
      "Epoch 5/20\n",
      "336/336 - 1s - loss: 0.0507 - accuracy: 0.9839 - val_loss: 0.1280 - val_accuracy: 0.9639\n",
      "Epoch 6/20\n",
      "336/336 - 1s - loss: 0.0442 - accuracy: 0.9853 - val_loss: 0.1107 - val_accuracy: 0.9687\n",
      "Epoch 7/20\n",
      "336/336 - 1s - loss: 0.0300 - accuracy: 0.9904 - val_loss: 0.1022 - val_accuracy: 0.9740\n",
      "Epoch 8/20\n",
      "336/336 - 1s - loss: 0.0336 - accuracy: 0.9887 - val_loss: 0.1033 - val_accuracy: 0.9727\n",
      "Epoch 9/20\n",
      "336/336 - 1s - loss: 0.0281 - accuracy: 0.9906 - val_loss: 0.1156 - val_accuracy: 0.9711\n",
      "Epoch 10/20\n",
      "336/336 - 1s - loss: 0.0211 - accuracy: 0.9934 - val_loss: 0.1180 - val_accuracy: 0.9725\n",
      "Epoch 11/20\n",
      "336/336 - 1s - loss: 0.0222 - accuracy: 0.9927 - val_loss: 0.1290 - val_accuracy: 0.9699\n",
      "Epoch 12/20\n",
      "336/336 - 1s - loss: 0.0203 - accuracy: 0.9939 - val_loss: 0.1051 - val_accuracy: 0.9769\n",
      "Epoch 13/20\n",
      "336/336 - 1s - loss: 0.0212 - accuracy: 0.9935 - val_loss: 0.1166 - val_accuracy: 0.9739\n",
      "Epoch 14/20\n",
      "336/336 - 1s - loss: 0.0167 - accuracy: 0.9948 - val_loss: 0.1398 - val_accuracy: 0.9730\n",
      "Epoch 15/20\n",
      "336/336 - 1s - loss: 0.0205 - accuracy: 0.9937 - val_loss: 0.1175 - val_accuracy: 0.9736\n",
      "Epoch 16/20\n",
      "336/336 - 1s - loss: 0.0133 - accuracy: 0.9960 - val_loss: 0.1139 - val_accuracy: 0.9756\n",
      "Epoch 17/20\n",
      "336/336 - 1s - loss: 0.0145 - accuracy: 0.9952 - val_loss: 0.1182 - val_accuracy: 0.9774\n",
      "Epoch 18/20\n",
      "336/336 - 1s - loss: 0.0154 - accuracy: 0.9952 - val_loss: 0.1213 - val_accuracy: 0.9755\n",
      "Epoch 19/20\n",
      "336/336 - 1s - loss: 0.0118 - accuracy: 0.9962 - val_loss: 0.1308 - val_accuracy: 0.9748\n",
      "Epoch 20/20\n",
      "336/336 - 1s - loss: 0.0152 - accuracy: 0.9954 - val_loss: 0.1044 - val_accuracy: 0.9794\n"
     ]
    }
   ],
   "source": [
    "adam = optimizers.Adam(lr=0.01)\n",
    "model3.compile(loss='categorical_crossentropy', optimizer='adam', metrics=['accuracy'])\n",
    "history3 = model3.fit(X_train, y_train, batch_size=batch_size, epochs=training_epochs,\n",
    "                       verbose=2, validation_data=(X_cv, y_cv))"
   ]
  },
  {
   "cell_type": "code",
   "execution_count": 105,
   "metadata": {},
   "outputs": [],
   "source": [
    "n_input = 784 # number of features\n",
    "n_hidden_1 = 300\n",
    "n_hidden_2 = 100\n",
    "n_hidden_3 = 100\n",
    "n_hidden_4 = 200\n",
    "num_digits = 10"
   ]
  },
  {
   "cell_type": "code",
   "execution_count": 106,
   "metadata": {},
   "outputs": [],
   "source": [
    "Inp = Input(shape=(784, ))\n",
    "x = Dense(n_hidden_1, activation='relu', name=\"Hidden_Layer_1\")(Inp)\n",
    "x = Dropout(0.3)(x)\n",
    "x = Dense(n_hidden_2, activation='relu', name=\"Hidden_Layer_2\")(x)\n",
    "x = Dropout(0.3)(x)\n",
    "x = Dense(n_hidden_3, activation='relu', name=\"Hidden_Layer_3\")(x)\n",
    "x = Dropout(0.3)(x)\n",
    "x = Dense(n_hidden_4, activation='relu', name=\"Hidden_Layer_4\")(x)\n",
    "\n",
    "output = Dense(num_digits, activation='softmax', name=\"Output_Layer\")(x)"
   ]
  },
  {
   "cell_type": "code",
   "execution_count": 107,
   "metadata": {},
   "outputs": [
    {
     "name": "stdout",
     "output_type": "stream",
     "text": [
      "Model: \"functional_15\"\n",
      "_________________________________________________________________\n",
      "Layer (type)                 Output Shape              Param #   \n",
      "=================================================================\n",
      "input_11 (InputLayer)        [(None, 784)]             0         \n",
      "_________________________________________________________________\n",
      "Hidden_Layer_1 (Dense)       (None, 300)               235500    \n",
      "_________________________________________________________________\n",
      "dropout (Dropout)            (None, 300)               0         \n",
      "_________________________________________________________________\n",
      "Hidden_Layer_2 (Dense)       (None, 100)               30100     \n",
      "_________________________________________________________________\n",
      "dropout_1 (Dropout)          (None, 100)               0         \n",
      "_________________________________________________________________\n",
      "Hidden_Layer_3 (Dense)       (None, 100)               10100     \n",
      "_________________________________________________________________\n",
      "dropout_2 (Dropout)          (None, 100)               0         \n",
      "_________________________________________________________________\n",
      "Hidden_Layer_4 (Dense)       (None, 200)               20200     \n",
      "_________________________________________________________________\n",
      "Output_Layer (Dense)         (None, 10)                2010      \n",
      "=================================================================\n",
      "Total params: 297,910\n",
      "Trainable params: 297,910\n",
      "Non-trainable params: 0\n",
      "_________________________________________________________________\n"
     ]
    }
   ],
   "source": [
    "model4 = Model(Inp, output)\n",
    "model4.summary()"
   ]
  },
  {
   "cell_type": "code",
   "execution_count": 108,
   "metadata": {},
   "outputs": [],
   "source": [
    "model4.compile(loss='categorical_crossentropy', optimizer='adam', metrics=['accuracy'])"
   ]
  },
  {
   "cell_type": "code",
   "execution_count": 109,
   "metadata": {},
   "outputs": [
    {
     "name": "stdout",
     "output_type": "stream",
     "text": [
      "Epoch 1/20\n",
      "336/336 - 1s - loss: 0.5874 - accuracy: 0.8129 - val_loss: 0.1994 - val_accuracy: 0.9419\n",
      "Epoch 2/20\n",
      "336/336 - 1s - loss: 0.2366 - accuracy: 0.9310 - val_loss: 0.1419 - val_accuracy: 0.9567\n",
      "Epoch 3/20\n",
      "336/336 - 1s - loss: 0.1762 - accuracy: 0.9481 - val_loss: 0.1205 - val_accuracy: 0.9643\n",
      "Epoch 4/20\n",
      "336/336 - 1s - loss: 0.1433 - accuracy: 0.9588 - val_loss: 0.1135 - val_accuracy: 0.9690\n",
      "Epoch 5/20\n",
      "336/336 - 1s - loss: 0.1265 - accuracy: 0.9631 - val_loss: 0.1130 - val_accuracy: 0.9689\n",
      "Epoch 6/20\n",
      "336/336 - 1s - loss: 0.1117 - accuracy: 0.9665 - val_loss: 0.1009 - val_accuracy: 0.9706\n",
      "Epoch 7/20\n",
      "336/336 - 1s - loss: 0.0986 - accuracy: 0.9709 - val_loss: 0.0977 - val_accuracy: 0.9745\n",
      "Epoch 8/20\n",
      "336/336 - 1s - loss: 0.0897 - accuracy: 0.9731 - val_loss: 0.0997 - val_accuracy: 0.9746\n",
      "Epoch 9/20\n",
      "336/336 - 1s - loss: 0.0839 - accuracy: 0.9751 - val_loss: 0.0952 - val_accuracy: 0.9760\n",
      "Epoch 10/20\n",
      "336/336 - 1s - loss: 0.0763 - accuracy: 0.9777 - val_loss: 0.1002 - val_accuracy: 0.9727\n",
      "Epoch 11/20\n",
      "336/336 - 1s - loss: 0.0732 - accuracy: 0.9785 - val_loss: 0.0962 - val_accuracy: 0.9752\n",
      "Epoch 12/20\n",
      "336/336 - 1s - loss: 0.0667 - accuracy: 0.9797 - val_loss: 0.0917 - val_accuracy: 0.9765\n",
      "Epoch 13/20\n",
      "336/336 - 1s - loss: 0.0622 - accuracy: 0.9811 - val_loss: 0.0934 - val_accuracy: 0.9770\n",
      "Epoch 14/20\n",
      "336/336 - 1s - loss: 0.0623 - accuracy: 0.9815 - val_loss: 0.0872 - val_accuracy: 0.9775\n",
      "Epoch 15/20\n",
      "336/336 - 1s - loss: 0.0568 - accuracy: 0.9832 - val_loss: 0.0877 - val_accuracy: 0.9799\n",
      "Epoch 16/20\n",
      "336/336 - 1s - loss: 0.0527 - accuracy: 0.9842 - val_loss: 0.0964 - val_accuracy: 0.9777\n",
      "Epoch 17/20\n",
      "336/336 - 1s - loss: 0.0534 - accuracy: 0.9837 - val_loss: 0.0874 - val_accuracy: 0.9790\n",
      "Epoch 18/20\n",
      "336/336 - 1s - loss: 0.0474 - accuracy: 0.9849 - val_loss: 0.0876 - val_accuracy: 0.9793\n",
      "Epoch 19/20\n",
      "336/336 - 1s - loss: 0.0481 - accuracy: 0.9857 - val_loss: 0.0940 - val_accuracy: 0.9770\n",
      "Epoch 20/20\n",
      "336/336 - 1s - loss: 0.0441 - accuracy: 0.9871 - val_loss: 0.0865 - val_accuracy: 0.9796\n"
     ]
    },
    {
     "data": {
      "text/plain": [
       "<tensorflow.python.keras.callbacks.History at 0x22e0662cdc0>"
      ]
     },
     "execution_count": 109,
     "metadata": {},
     "output_type": "execute_result"
    }
   ],
   "source": [
    "model4.fit(X_train, y_train, batch_size=batch_size, epochs=training_epochs,\n",
    "            verbose=2, validation_data=(X_cv, y_cv))"
   ]
  },
  {
   "cell_type": "code",
   "execution_count": 110,
   "metadata": {},
   "outputs": [
    {
     "data": {
      "text/html": [
       "<div>\n",
       "<style scoped>\n",
       "    .dataframe tbody tr th:only-of-type {\n",
       "        vertical-align: middle;\n",
       "    }\n",
       "\n",
       "    .dataframe tbody tr th {\n",
       "        vertical-align: top;\n",
       "    }\n",
       "\n",
       "    .dataframe thead th {\n",
       "        text-align: right;\n",
       "    }\n",
       "</style>\n",
       "<table border=\"1\" class=\"dataframe\">\n",
       "  <thead>\n",
       "    <tr style=\"text-align: right;\">\n",
       "      <th></th>\n",
       "      <th>ImageId</th>\n",
       "      <th>Label</th>\n",
       "    </tr>\n",
       "  </thead>\n",
       "  <tbody>\n",
       "    <tr>\n",
       "      <th>0</th>\n",
       "      <td>1</td>\n",
       "      <td>2</td>\n",
       "    </tr>\n",
       "    <tr>\n",
       "      <th>1</th>\n",
       "      <td>2</td>\n",
       "      <td>0</td>\n",
       "    </tr>\n",
       "    <tr>\n",
       "      <th>2</th>\n",
       "      <td>3</td>\n",
       "      <td>9</td>\n",
       "    </tr>\n",
       "    <tr>\n",
       "      <th>3</th>\n",
       "      <td>4</td>\n",
       "      <td>0</td>\n",
       "    </tr>\n",
       "    <tr>\n",
       "      <th>4</th>\n",
       "      <td>5</td>\n",
       "      <td>3</td>\n",
       "    </tr>\n",
       "  </tbody>\n",
       "</table>\n",
       "</div>"
      ],
      "text/plain": [
       "   ImageId  Label\n",
       "0        1      2\n",
       "1        2      0\n",
       "2        3      9\n",
       "3        4      0\n",
       "4        5      3"
      ]
     },
     "execution_count": 110,
     "metadata": {},
     "output_type": "execute_result"
    }
   ],
   "source": [
    "test_pred = pd.DataFrame(model4.predict(X_test, batch_size=200))\n",
    "test_pred = pd.DataFrame(test_pred.idxmax(axis = 1))\n",
    "test_pred.index.name = 'ImageId'\n",
    "test_pred = test_pred.rename(columns = {0: 'Label'}).reset_index()  # use the default index\n",
    "test_pred['ImageId'] = test_pred['ImageId'] + 1\n",
    "\n",
    "test_pred.head()"
   ]
  },
  {
   "cell_type": "code",
   "execution_count": 111,
   "metadata": {},
   "outputs": [],
   "source": [
    "test_pred.to_csv('mnist_submission.csv', index = False)"
   ]
  },
  {
   "cell_type": "code",
   "execution_count": null,
   "metadata": {},
   "outputs": [],
   "source": []
  }
 ],
 "metadata": {
  "kernelspec": {
   "display_name": "Python 3",
   "language": "python",
   "name": "python3"
  },
  "language_info": {
   "codemirror_mode": {
    "name": "ipython",
    "version": 3
   },
   "file_extension": ".py",
   "mimetype": "text/x-python",
   "name": "python",
   "nbconvert_exporter": "python",
   "pygments_lexer": "ipython3",
   "version": "3.8.3"
  }
 },
 "nbformat": 4,
 "nbformat_minor": 4
}
