{
 "cells": [
  {
   "cell_type": "code",
   "execution_count": 3,
   "metadata": {},
   "outputs": [],
   "source": [
    "import tensorflow as tf\n",
    "from tensorflow import keras"
   ]
  },
  {
   "cell_type": "code",
   "execution_count": 9,
   "metadata": {},
   "outputs": [
    {
     "name": "stderr",
     "output_type": "stream",
     "text": [
      "Downloading Cal. housing from https://ndownloader.figshare.com/files/5976036 to /home/dushyantsingh40682855/scikit_learn_data\n"
     ]
    }
   ],
   "source": [
    "from sklearn.datasets import fetch_california_housing\n",
    "housing = fetch_california_housing()"
   ]
  },
  {
   "cell_type": "code",
   "execution_count": 12,
   "metadata": {},
   "outputs": [],
   "source": [
    "from sklearn.model_selection import train_test_split\n",
    "X_train_full, X_test, y_train_full, y_test = train_test_split(housing.data,\n",
    "         housing.target.reshape(-1, 1), random_state=42)"
   ]
  },
  {
   "cell_type": "code",
   "execution_count": 13,
   "metadata": {},
   "outputs": [],
   "source": [
    "X_train, X_valid, y_train, y_valid = train_test_split(\n",
    "X_train_full, y_train_full, random_state=42)"
   ]
  },
  {
   "cell_type": "code",
   "execution_count": 14,
   "metadata": {},
   "outputs": [],
   "source": [
    "from sklearn.preprocessing import StandardScaler\n",
    "scaler = StandardScaler()\n",
    "\n",
    "X_train_scaled = scaler.fit_transform(X_train)\n",
    "X_valid_scaled = scaler.transform(X_valid)\n",
    "X_test_scaled = scaler.transform(X_test)"
   ]
  },
  {
   "cell_type": "code",
   "execution_count": 23,
   "metadata": {},
   "outputs": [],
   "source": [
    "def huber_fn(y_true, y_pred):\n",
    "    error = y_true - y_pred\n",
    "    is_small_error = tf.abs(error) < 1\n",
    "    squared_loss = tf.square(error) / 2\n",
    "    linear_loss = tf.abs(error) - 0.5\n",
    "    return tf.where(is_small_error, squared_loss,\n",
    "                   linear_loss)"
   ]
  },
  {
   "cell_type": "code",
   "execution_count": 29,
   "metadata": {},
   "outputs": [],
   "source": [
    "model = keras.models.Sequential([\n",
    "    keras.layers.Dense(30, activation=\"relu\",\n",
    "    kernel_initializer=\"lecun_normal\", input_shape=X_train.shape[1:]),\n",
    "    keras.layers.Dense(1)\n",
    "])"
   ]
  },
  {
   "cell_type": "code",
   "execution_count": 30,
   "metadata": {},
   "outputs": [
    {
     "data": {
      "text/plain": [
       "<tensorflow.python.keras.engine.sequential.Sequential at 0x7fde4947f080>"
      ]
     },
     "execution_count": 30,
     "metadata": {},
     "output_type": "execute_result"
    }
   ],
   "source": [
    "model"
   ]
  },
  {
   "cell_type": "code",
   "execution_count": 32,
   "metadata": {},
   "outputs": [],
   "source": [
    "model.compile(loss=huber_fn, optimizer=\"Adam\", metrics=[\"mse\"])"
   ]
  },
  {
   "cell_type": "code",
   "execution_count": 35,
   "metadata": {},
   "outputs": [
    {
     "name": "stdout",
     "output_type": "stream",
     "text": [
      "Train on 11610 samples, validate on 3870 samples\n",
      "Epoch 1/15\n",
      "11610/11610 [==============================] - 1s 123us/sample - loss: 0.5505 - mse: 1.6394 - val_loss: 0.2891 - val_mse: 0.7329\n",
      "Epoch 2/15\n",
      "11610/11610 [==============================] - 1s 65us/sample - loss: 0.2546 - mse: 0.6085 - val_loss: 0.2258 - val_mse: 1.1215\n",
      "Epoch 3/15\n",
      "11610/11610 [==============================] - 1s 63us/sample - loss: 0.2035 - mse: 0.4747 - val_loss: 0.1807 - val_mse: 0.4342\n",
      "Epoch 4/15\n",
      "11610/11610 [==============================] - 1s 67us/sample - loss: 0.1842 - mse: 0.4260 - val_loss: 0.1912 - val_mse: 1.4203\n",
      "Epoch 5/15\n",
      "11610/11610 [==============================] - 1s 65us/sample - loss: 0.1760 - mse: 0.4105 - val_loss: 0.1751 - val_mse: 0.6375\n",
      "Epoch 6/15\n",
      "11610/11610 [==============================] - 1s 63us/sample - loss: 0.1709 - mse: 0.3918 - val_loss: 0.1616 - val_mse: 0.3893\n",
      "Epoch 7/15\n",
      "11610/11610 [==============================] - 1s 60us/sample - loss: 0.1679 - mse: 0.3859 - val_loss: 0.1666 - val_mse: 0.5711\n",
      "Epoch 8/15\n",
      "11610/11610 [==============================] - 1s 62us/sample - loss: 0.1659 - mse: 0.3822 - val_loss: 0.1662 - val_mse: 0.5225\n",
      "Epoch 9/15\n",
      "11610/11610 [==============================] - 1s 66us/sample - loss: 0.1640 - mse: 0.3767 - val_loss: 0.1652 - val_mse: 0.5727\n",
      "Epoch 10/15\n",
      "11610/11610 [==============================] - 1s 62us/sample - loss: 0.1629 - mse: 0.3730 - val_loss: 0.1581 - val_mse: 0.4024\n",
      "Epoch 11/15\n",
      "11610/11610 [==============================] - 1s 61us/sample - loss: 0.1608 - mse: 0.3682 - val_loss: 0.1799 - val_mse: 1.7144\n",
      "Epoch 12/15\n",
      "11610/11610 [==============================] - 1s 63us/sample - loss: 0.1599 - mse: 0.3687 - val_loss: 0.1580 - val_mse: 0.4320\n",
      "Epoch 13/15\n",
      "11610/11610 [==============================] - 1s 64us/sample - loss: 0.1586 - mse: 0.3636 - val_loss: 0.1542 - val_mse: 0.3844\n",
      "Epoch 14/15\n",
      "11610/11610 [==============================] - 1s 65us/sample - loss: 0.1569 - mse: 0.3583 - val_loss: 0.1732 - val_mse: 1.2314\n",
      "Epoch 15/15\n",
      "11610/11610 [==============================] - 1s 68us/sample - loss: 0.1569 - mse: 0.3595 - val_loss: 0.1464 - val_mse: 0.3276\n"
     ]
    },
    {
     "data": {
      "text/plain": [
       "<tensorflow.python.keras.callbacks.History at 0x7fde498b34a8>"
      ]
     },
     "execution_count": 35,
     "metadata": {},
     "output_type": "execute_result"
    }
   ],
   "source": [
    "model.fit(X_train_scaled, y_train, epochs=15,\n",
    "         validation_data=(X_valid_scaled, y_valid))"
   ]
  },
  {
   "cell_type": "code",
   "execution_count": null,
   "metadata": {},
   "outputs": [],
   "source": [
    "model.evaluate(X_test_scaled, y_test)"
   ]
  }
 ],
 "metadata": {
  "kernelspec": {
   "display_name": "tensorflow2",
   "language": "python",
   "name": "tensorflow2"
  },
  "language_info": {
   "codemirror_mode": {
    "name": "ipython",
    "version": 3
   },
   "file_extension": ".py",
   "mimetype": "text/x-python",
   "name": "python",
   "nbconvert_exporter": "python",
   "pygments_lexer": "ipython3",
   "version": "3.6.8"
  },
  "toc": {
   "base_numbering": 1,
   "nav_menu": {},
   "number_sections": true,
   "sideBar": true,
   "skip_h1_title": false,
   "title_cell": "Table of Contents",
   "title_sidebar": "Contents",
   "toc_cell": false,
   "toc_position": {},
   "toc_section_display": true,
   "toc_window_display": false
  }
 },
 "nbformat": 4,
 "nbformat_minor": 2
}
